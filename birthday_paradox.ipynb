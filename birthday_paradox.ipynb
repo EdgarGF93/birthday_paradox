{
 "cells": [
  {
   "cell_type": "code",
   "execution_count": 1,
   "id": "fc45e075",
   "metadata": {},
   "outputs": [],
   "source": [
    "import numpy as np\n",
    "import time"
   ]
  },
  {
   "cell_type": "code",
   "execution_count": 99,
   "id": "388a1db4",
   "metadata": {},
   "outputs": [],
   "source": [
    "def generate_one_birthday():\n",
    "    np.random.seed()\n",
    "    birthday = np.random.randint(1,365,1)\n",
    "    return int(birthday)"
   ]
  },
  {
   "cell_type": "code",
   "execution_count": 100,
   "id": "09119412",
   "metadata": {},
   "outputs": [],
   "source": [
    "def generate_birthdays(N):\n",
    "    birthday_list = []\n",
    "    for _ in range(N):\n",
    "        birthday_list.append(generate_one_birthday())\n",
    "    return np.array(birthday_list)"
   ]
  },
  {
   "cell_type": "code",
   "execution_count": 101,
   "id": "64548c1c",
   "metadata": {},
   "outputs": [],
   "source": [
    "def is_there_a_match(birthday_array):\n",
    "    serie = pd.Series(birthday_array)\n",
    "    if serie.is_unique:\n",
    "        return False\n",
    "    else:\n",
    "        return True"
   ]
  },
  {
   "cell_type": "code",
   "execution_count": 102,
   "id": "b9f03587",
   "metadata": {},
   "outputs": [],
   "source": [
    "N_TEST = 100"
   ]
  },
  {
   "cell_type": "code",
   "execution_count": 103,
   "id": "7f190051",
   "metadata": {},
   "outputs": [],
   "source": [
    "N_PEOPLE = [5, 10, 20, 30]"
   ]
  },
  {
   "cell_type": "code",
   "execution_count": 104,
   "id": "376f9fb9",
   "metadata": {},
   "outputs": [],
   "source": [
    "def prob_match(N_PEOPLE_LIST, N_TEST):\n",
    "    prob_list = []\n",
    "    for people in N_PEOPLE_LIST:\n",
    "        probs = 0\n",
    "        for _ in range(N_TEST):\n",
    "            if is_there_a_match(generate_birthdays(people)):\n",
    "                probs += 1\n",
    "        probs = probs / N_TEST\n",
    "        prob_list.append(probs)\n",
    "    return np.array(prob_list) * 100"
   ]
  },
  {
   "cell_type": "code",
   "execution_count": 114,
   "id": "53b48263",
   "metadata": {},
   "outputs": [],
   "source": [
    "x = np.array([2,5,10,15,20,25,30,35,40,45,50,60,70,80,90,100])"
   ]
  },
  {
   "cell_type": "code",
   "execution_count": 116,
   "id": "b3eb807c",
   "metadata": {},
   "outputs": [],
   "source": [
    "list_probs = prob_match(N_PEOPLE_LIST=x, N_TEST=1000)"
   ]
  },
  {
   "cell_type": "code",
   "execution_count": 120,
   "id": "99dff1f6",
   "metadata": {},
   "outputs": [
    {
     "data": {
      "image/png": "[encoded data removed]",
      "text/plain": [
       "<Figure size 640x480 with 1 Axes>"
      ]
     },
     "metadata": {},
     "output_type": "display_data"
    }
   ],
   "source": [
    "plt.scatter(x, list_probs)\n",
    "plt.xlabel(\"Number of people\")\n",
    "plt.ylabel(\"Probability of match\")\n",
    "plt.show()"
   ]
  },
  {
   "cell_type": "code",
   "execution_count": null,
   "id": "ce17b83b",
   "metadata": {},
   "outputs": [],
   "source": []
  },
  {
   "cell_type": "code",
   "execution_count": null,
   "id": "38fa1e38",
   "metadata": {},
   "outputs": [],
   "source": []
  },
  {
   "cell_type": "code",
   "execution_count": null,
   "id": "f02f7f22",
   "metadata": {},
   "outputs": [],
   "source": []
  },
  {
   "cell_type": "code",
   "execution_count": null,
   "id": "2e0445bd",
   "metadata": {},
   "outputs": [],
   "source": []
  },
  {
   "cell_type": "code",
   "execution_count": null,
   "id": "f22b65be",
   "metadata": {},
   "outputs": [],
   "source": []
  }
 ],
 "metadata": {
  "kernelspec": {
   "display_name": "Python 3 (ipykernel)",
   "language": "python",
   "name": "python3"
  },
  "language_info": {
   "codemirror_mode": {
    "name": "ipython",
    "version": 3
   },
   "file_extension": ".py",
   "mimetype": "text/x-python",
   "name": "python",
   "nbconvert_exporter": "python",
   "pygments_lexer": "ipython3",
   "version": "3.10.9"
  }
 },
 "nbformat": 4,
 "nbformat_minor": 5
}
